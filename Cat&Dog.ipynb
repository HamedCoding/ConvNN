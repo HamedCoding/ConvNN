{
 "cells": [
  {
   "cell_type": "code",
   "execution_count": 18,
   "metadata": {
    "id": "dUyQKmy_Bo68"
   },
   "outputs": [],
   "source": [
    "!wget https://download.microsoft.com/download/3/E/1/3E1C3F21-ECDB-4869-8368-6DEBA77B919F/kagglecatsanddogs_5340.zip"
   ]
  },
  {
   "cell_type": "code",
   "execution_count": 19,
   "metadata": {
    "id": "apgvH9q4CZnv"
   },
   "outputs": [],
   "source": [
    "!unzip kagglecatsanddogs_5340.zip"
   ]
  },
  {
   "cell_type": "code",
   "execution_count": 21,
   "metadata": {
    "id": "kRkma9QmCiOt"
   },
   "outputs": [],
   "source": [
    "import pandas as pd\n",
    "import numpy as np\n",
    "import matplotlib.pyplot as plt\n",
    "import warnings\n",
    "import os\n",
    "import tqdm\n",
    "import random\n",
    "import PIL\n",
    "from keras.preprocessing.image import load_img\n",
    "warnings.filterwarnings('ignore')"
   ]
  },
  {
   "cell_type": "code",
   "execution_count": 22,
   "metadata": {
    "id": "e3jgAJhGCkin"
   },
   "outputs": [],
   "source": [
    "# cat, dog = 1, 0\n",
    "data = pd.DataFrame()\n",
    "path_lst=[]\n",
    "type_lst=[]\n",
    "for pettype in os.listdir(\"PetImages\"):\n",
    "  for img in os.listdir(\"PetImages/\"+pettype):\n",
    "    path_lst.append(\"PetImages/\"+pettype+'/'+img)\n",
    "    type_lst.append('1' if pettype=='Cat' else '0')\n",
    "    \n",
    "data['type']=type_lst\n",
    "data['path']=path_lst"
   ]
  },
  {
   "cell_type": "code",
   "execution_count": 23,
   "metadata": {
    "colab": {
     "base_uri": "https://localhost:8080/",
     "height": 206
    },
    "id": "DrqbpVaHSXoI",
    "outputId": "9e8cf87b-9966-4ff6-f4db-66a6fa276ede"
   },
   "outputs": [
    {
     "data": {
      "text/html": [
       "\n",
       "  <div id=\"df-44750d40-badd-4097-bdf9-e49171a965df\">\n",
       "    <div class=\"colab-df-container\">\n",
       "      <div>\n",
       "<style scoped>\n",
       "    .dataframe tbody tr th:only-of-type {\n",
       "        vertical-align: middle;\n",
       "    }\n",
       "\n",
       "    .dataframe tbody tr th {\n",
       "        vertical-align: top;\n",
       "    }\n",
       "\n",
       "    .dataframe thead th {\n",
       "        text-align: right;\n",
       "    }\n",
       "</style>\n",
       "<table border=\"1\" class=\"dataframe\">\n",
       "  <thead>\n",
       "    <tr style=\"text-align: right;\">\n",
       "      <th></th>\n",
       "      <th>type</th>\n",
       "      <th>path</th>\n",
       "    </tr>\n",
       "  </thead>\n",
       "  <tbody>\n",
       "    <tr>\n",
       "      <th>0</th>\n",
       "      <td>0</td>\n",
       "      <td>PetImages/Dog/4700.jpg</td>\n",
       "    </tr>\n",
       "    <tr>\n",
       "      <th>1</th>\n",
       "      <td>0</td>\n",
       "      <td>PetImages/Dog/7282.jpg</td>\n",
       "    </tr>\n",
       "    <tr>\n",
       "      <th>2</th>\n",
       "      <td>0</td>\n",
       "      <td>PetImages/Dog/3769.jpg</td>\n",
       "    </tr>\n",
       "    <tr>\n",
       "      <th>3</th>\n",
       "      <td>0</td>\n",
       "      <td>PetImages/Dog/10493.jpg</td>\n",
       "    </tr>\n",
       "    <tr>\n",
       "      <th>4</th>\n",
       "      <td>0</td>\n",
       "      <td>PetImages/Dog/2667.jpg</td>\n",
       "    </tr>\n",
       "  </tbody>\n",
       "</table>\n",
       "</div>\n",
       "      <button class=\"colab-df-convert\" onclick=\"convertToInteractive('df-44750d40-badd-4097-bdf9-e49171a965df')\"\n",
       "              title=\"Convert this dataframe to an interactive table.\"\n",
       "              style=\"display:none;\">\n",
       "        \n",
       "  <svg xmlns=\"http://www.w3.org/2000/svg\" height=\"24px\"viewBox=\"0 0 24 24\"\n",
       "       width=\"24px\">\n",
       "    <path d=\"M0 0h24v24H0V0z\" fill=\"none\"/>\n",
       "    <path d=\"M18.56 5.44l.94 2.06.94-2.06 2.06-.94-2.06-.94-.94-2.06-.94 2.06-2.06.94zm-11 1L8.5 8.5l.94-2.06 2.06-.94-2.06-.94L8.5 2.5l-.94 2.06-2.06.94zm10 10l.94 2.06.94-2.06 2.06-.94-2.06-.94-.94-2.06-.94 2.06-2.06.94z\"/><path d=\"M17.41 7.96l-1.37-1.37c-.4-.4-.92-.59-1.43-.59-.52 0-1.04.2-1.43.59L10.3 9.45l-7.72 7.72c-.78.78-.78 2.05 0 2.83L4 21.41c.39.39.9.59 1.41.59.51 0 1.02-.2 1.41-.59l7.78-7.78 2.81-2.81c.8-.78.8-2.07 0-2.86zM5.41 20L4 18.59l7.72-7.72 1.47 1.35L5.41 20z\"/>\n",
       "  </svg>\n",
       "      </button>\n",
       "      \n",
       "  <style>\n",
       "    .colab-df-container {\n",
       "      display:flex;\n",
       "      flex-wrap:wrap;\n",
       "      gap: 12px;\n",
       "    }\n",
       "\n",
       "    .colab-df-convert {\n",
       "      background-color: #E8F0FE;\n",
       "      border: none;\n",
       "      border-radius: 50%;\n",
       "      cursor: pointer;\n",
       "      display: none;\n",
       "      fill: #1967D2;\n",
       "      height: 32px;\n",
       "      padding: 0 0 0 0;\n",
       "      width: 32px;\n",
       "    }\n",
       "\n",
       "    .colab-df-convert:hover {\n",
       "      background-color: #E2EBFA;\n",
       "      box-shadow: 0px 1px 2px rgba(60, 64, 67, 0.3), 0px 1px 3px 1px rgba(60, 64, 67, 0.15);\n",
       "      fill: #174EA6;\n",
       "    }\n",
       "\n",
       "    [theme=dark] .colab-df-convert {\n",
       "      background-color: #3B4455;\n",
       "      fill: #D2E3FC;\n",
       "    }\n",
       "\n",
       "    [theme=dark] .colab-df-convert:hover {\n",
       "      background-color: #434B5C;\n",
       "      box-shadow: 0px 1px 3px 1px rgba(0, 0, 0, 0.15);\n",
       "      filter: drop-shadow(0px 1px 2px rgba(0, 0, 0, 0.3));\n",
       "      fill: #FFFFFF;\n",
       "    }\n",
       "  </style>\n",
       "\n",
       "      <script>\n",
       "        const buttonEl =\n",
       "          document.querySelector('#df-44750d40-badd-4097-bdf9-e49171a965df button.colab-df-convert');\n",
       "        buttonEl.style.display =\n",
       "          google.colab.kernel.accessAllowed ? 'block' : 'none';\n",
       "\n",
       "        async function convertToInteractive(key) {\n",
       "          const element = document.querySelector('#df-44750d40-badd-4097-bdf9-e49171a965df');\n",
       "          const dataTable =\n",
       "            await google.colab.kernel.invokeFunction('convertToInteractive',\n",
       "                                                     [key], {});\n",
       "          if (!dataTable) return;\n",
       "\n",
       "          const docLinkHtml = 'Like what you see? Visit the ' +\n",
       "            '<a target=\"_blank\" href=https://colab.research.google.com/notebooks/data_table.ipynb>data table notebook</a>'\n",
       "            + ' to learn more about interactive tables.';\n",
       "          element.innerHTML = '';\n",
       "          dataTable['output_type'] = 'display_data';\n",
       "          await google.colab.output.renderOutput(dataTable, element);\n",
       "          const docLink = document.createElement('div');\n",
       "          docLink.innerHTML = docLinkHtml;\n",
       "          element.appendChild(docLink);\n",
       "        }\n",
       "      </script>\n",
       "    </div>\n",
       "  </div>\n",
       "  "
      ],
      "text/plain": [
       "  type                     path\n",
       "0    0   PetImages/Dog/4700.jpg\n",
       "1    0   PetImages/Dog/7282.jpg\n",
       "2    0   PetImages/Dog/3769.jpg\n",
       "3    0  PetImages/Dog/10493.jpg\n",
       "4    0   PetImages/Dog/2667.jpg"
      ]
     },
     "execution_count": 23,
     "metadata": {},
     "output_type": "execute_result"
    }
   ],
   "source": [
    "data.head()"
   ]
  },
  {
   "cell_type": "code",
   "execution_count": 24,
   "metadata": {
    "colab": {
     "base_uri": "https://localhost:8080/",
     "height": 424
    },
    "id": "kj75-OsYThkM",
    "outputId": "13dccd19-2e81-4268-bbca-69665f06f3e2"
   },
   "outputs": [
    {
     "data": {
      "text/html": [
       "\n",
       "  <div id=\"df-035bfbb1-c4dd-4b08-a659-c1eb1e0c6808\">\n",
       "    <div class=\"colab-df-container\">\n",
       "      <div>\n",
       "<style scoped>\n",
       "    .dataframe tbody tr th:only-of-type {\n",
       "        vertical-align: middle;\n",
       "    }\n",
       "\n",
       "    .dataframe tbody tr th {\n",
       "        vertical-align: top;\n",
       "    }\n",
       "\n",
       "    .dataframe thead th {\n",
       "        text-align: right;\n",
       "    }\n",
       "</style>\n",
       "<table border=\"1\" class=\"dataframe\">\n",
       "  <thead>\n",
       "    <tr style=\"text-align: right;\">\n",
       "      <th></th>\n",
       "      <th>type</th>\n",
       "      <th>path</th>\n",
       "    </tr>\n",
       "  </thead>\n",
       "  <tbody>\n",
       "    <tr>\n",
       "      <th>0</th>\n",
       "      <td>0</td>\n",
       "      <td>PetImages/Dog/4700.jpg</td>\n",
       "    </tr>\n",
       "    <tr>\n",
       "      <th>1</th>\n",
       "      <td>0</td>\n",
       "      <td>PetImages/Dog/7282.jpg</td>\n",
       "    </tr>\n",
       "    <tr>\n",
       "      <th>2</th>\n",
       "      <td>0</td>\n",
       "      <td>PetImages/Dog/3769.jpg</td>\n",
       "    </tr>\n",
       "    <tr>\n",
       "      <th>3</th>\n",
       "      <td>0</td>\n",
       "      <td>PetImages/Dog/10493.jpg</td>\n",
       "    </tr>\n",
       "    <tr>\n",
       "      <th>4</th>\n",
       "      <td>0</td>\n",
       "      <td>PetImages/Dog/2667.jpg</td>\n",
       "    </tr>\n",
       "    <tr>\n",
       "      <th>...</th>\n",
       "      <td>...</td>\n",
       "      <td>...</td>\n",
       "    </tr>\n",
       "    <tr>\n",
       "      <th>24997</th>\n",
       "      <td>1</td>\n",
       "      <td>PetImages/Cat/1748.jpg</td>\n",
       "    </tr>\n",
       "    <tr>\n",
       "      <th>24998</th>\n",
       "      <td>1</td>\n",
       "      <td>PetImages/Cat/5059.jpg</td>\n",
       "    </tr>\n",
       "    <tr>\n",
       "      <th>24999</th>\n",
       "      <td>1</td>\n",
       "      <td>PetImages/Cat/2016.jpg</td>\n",
       "    </tr>\n",
       "    <tr>\n",
       "      <th>25000</th>\n",
       "      <td>1</td>\n",
       "      <td>PetImages/Cat/10333.jpg</td>\n",
       "    </tr>\n",
       "    <tr>\n",
       "      <th>25001</th>\n",
       "      <td>1</td>\n",
       "      <td>PetImages/Cat/9368.jpg</td>\n",
       "    </tr>\n",
       "  </tbody>\n",
       "</table>\n",
       "<p>25000 rows × 2 columns</p>\n",
       "</div>\n",
       "      <button class=\"colab-df-convert\" onclick=\"convertToInteractive('df-035bfbb1-c4dd-4b08-a659-c1eb1e0c6808')\"\n",
       "              title=\"Convert this dataframe to an interactive table.\"\n",
       "              style=\"display:none;\">\n",
       "        \n",
       "  <svg xmlns=\"http://www.w3.org/2000/svg\" height=\"24px\"viewBox=\"0 0 24 24\"\n",
       "       width=\"24px\">\n",
       "    <path d=\"M0 0h24v24H0V0z\" fill=\"none\"/>\n",
       "    <path d=\"M18.56 5.44l.94 2.06.94-2.06 2.06-.94-2.06-.94-.94-2.06-.94 2.06-2.06.94zm-11 1L8.5 8.5l.94-2.06 2.06-.94-2.06-.94L8.5 2.5l-.94 2.06-2.06.94zm10 10l.94 2.06.94-2.06 2.06-.94-2.06-.94-.94-2.06-.94 2.06-2.06.94z\"/><path d=\"M17.41 7.96l-1.37-1.37c-.4-.4-.92-.59-1.43-.59-.52 0-1.04.2-1.43.59L10.3 9.45l-7.72 7.72c-.78.78-.78 2.05 0 2.83L4 21.41c.39.39.9.59 1.41.59.51 0 1.02-.2 1.41-.59l7.78-7.78 2.81-2.81c.8-.78.8-2.07 0-2.86zM5.41 20L4 18.59l7.72-7.72 1.47 1.35L5.41 20z\"/>\n",
       "  </svg>\n",
       "      </button>\n",
       "      \n",
       "  <style>\n",
       "    .colab-df-container {\n",
       "      display:flex;\n",
       "      flex-wrap:wrap;\n",
       "      gap: 12px;\n",
       "    }\n",
       "\n",
       "    .colab-df-convert {\n",
       "      background-color: #E8F0FE;\n",
       "      border: none;\n",
       "      border-radius: 50%;\n",
       "      cursor: pointer;\n",
       "      display: none;\n",
       "      fill: #1967D2;\n",
       "      height: 32px;\n",
       "      padding: 0 0 0 0;\n",
       "      width: 32px;\n",
       "    }\n",
       "\n",
       "    .colab-df-convert:hover {\n",
       "      background-color: #E2EBFA;\n",
       "      box-shadow: 0px 1px 2px rgba(60, 64, 67, 0.3), 0px 1px 3px 1px rgba(60, 64, 67, 0.15);\n",
       "      fill: #174EA6;\n",
       "    }\n",
       "\n",
       "    [theme=dark] .colab-df-convert {\n",
       "      background-color: #3B4455;\n",
       "      fill: #D2E3FC;\n",
       "    }\n",
       "\n",
       "    [theme=dark] .colab-df-convert:hover {\n",
       "      background-color: #434B5C;\n",
       "      box-shadow: 0px 1px 3px 1px rgba(0, 0, 0, 0.15);\n",
       "      filter: drop-shadow(0px 1px 2px rgba(0, 0, 0, 0.3));\n",
       "      fill: #FFFFFF;\n",
       "    }\n",
       "  </style>\n",
       "\n",
       "      <script>\n",
       "        const buttonEl =\n",
       "          document.querySelector('#df-035bfbb1-c4dd-4b08-a659-c1eb1e0c6808 button.colab-df-convert');\n",
       "        buttonEl.style.display =\n",
       "          google.colab.kernel.accessAllowed ? 'block' : 'none';\n",
       "\n",
       "        async function convertToInteractive(key) {\n",
       "          const element = document.querySelector('#df-035bfbb1-c4dd-4b08-a659-c1eb1e0c6808');\n",
       "          const dataTable =\n",
       "            await google.colab.kernel.invokeFunction('convertToInteractive',\n",
       "                                                     [key], {});\n",
       "          if (!dataTable) return;\n",
       "\n",
       "          const docLinkHtml = 'Like what you see? Visit the ' +\n",
       "            '<a target=\"_blank\" href=https://colab.research.google.com/notebooks/data_table.ipynb>data table notebook</a>'\n",
       "            + ' to learn more about interactive tables.';\n",
       "          element.innerHTML = '';\n",
       "          dataTable['output_type'] = 'display_data';\n",
       "          await google.colab.output.renderOutput(dataTable, element);\n",
       "          const docLink = document.createElement('div');\n",
       "          docLink.innerHTML = docLinkHtml;\n",
       "          element.appendChild(docLink);\n",
       "        }\n",
       "      </script>\n",
       "    </div>\n",
       "  </div>\n",
       "  "
      ],
      "text/plain": [
       "      type                     path\n",
       "0        0   PetImages/Dog/4700.jpg\n",
       "1        0   PetImages/Dog/7282.jpg\n",
       "2        0   PetImages/Dog/3769.jpg\n",
       "3        0  PetImages/Dog/10493.jpg\n",
       "4        0   PetImages/Dog/2667.jpg\n",
       "...    ...                      ...\n",
       "24997    1   PetImages/Cat/1748.jpg\n",
       "24998    1   PetImages/Cat/5059.jpg\n",
       "24999    1   PetImages/Cat/2016.jpg\n",
       "25000    1  PetImages/Cat/10333.jpg\n",
       "25001    1   PetImages/Cat/9368.jpg\n",
       "\n",
       "[25000 rows x 2 columns]"
      ]
     },
     "execution_count": 24,
     "metadata": {},
     "output_type": "execute_result"
    }
   ],
   "source": [
    "df = data[data['path'].str.endswith('.jpg')]\n",
    "df"
   ]
  },
  {
   "cell_type": "code",
   "execution_count": 25,
   "metadata": {
    "colab": {
     "base_uri": "https://localhost:8080/"
    },
    "id": "uaFw9FtAUZ7i",
    "outputId": "4d223136-7049-428a-e02c-bce235a524b2"
   },
   "outputs": [
    {
     "data": {
      "text/plain": [
       "0    12500\n",
       "1    12500\n",
       "Name: type, dtype: int64"
      ]
     },
     "execution_count": 25,
     "metadata": {},
     "output_type": "execute_result"
    }
   ],
   "source": [
    "df['type'].value_counts()"
   ]
  },
  {
   "cell_type": "code",
   "execution_count": 26,
   "metadata": {
    "colab": {
     "base_uri": "https://localhost:8080/"
    },
    "id": "-ORIMsT6UlHI",
    "outputId": "74c74bba-ffb2-407c-9cf1-b3519e24dcb2"
   },
   "outputs": [
    {
     "data": {
      "text/plain": [
       "['PetImages/Dog/11702.jpg', 'PetImages/Cat/666.jpg']"
      ]
     },
     "execution_count": 26,
     "metadata": {},
     "output_type": "execute_result"
    }
   ],
   "source": [
    "failed = []\n",
    "for img in df['path']:\n",
    "    try:\n",
    "        image = PIL.Image.open(img)\n",
    "    except:\n",
    "        failed.append(img)\n",
    "failed"
   ]
  },
  {
   "cell_type": "code",
   "execution_count": 27,
   "metadata": {
    "id": "rt0GjPiZVgiu"
   },
   "outputs": [],
   "source": [
    "df = df[~df['path'].isin(failed)]"
   ]
  },
  {
   "cell_type": "code",
   "execution_count": 28,
   "metadata": {
    "id": "sz1JronPV0Qs"
   },
   "outputs": [],
   "source": [
    "df= df.reset_index(drop=True)"
   ]
  },
  {
   "cell_type": "code",
   "execution_count": 29,
   "metadata": {
    "colab": {
     "base_uri": "https://localhost:8080/"
    },
    "id": "KoGtLXPTWG04",
    "outputId": "51498f5e-c40a-48e5-a2f3-5a43d0c9a53d"
   },
   "outputs": [
    {
     "data": {
      "text/plain": [
       "0    12499\n",
       "1    12499\n",
       "Name: type, dtype: int64"
      ]
     },
     "execution_count": 29,
     "metadata": {},
     "output_type": "execute_result"
    }
   ],
   "source": [
    "df['type'].value_counts()"
   ]
  },
  {
   "cell_type": "code",
   "execution_count": 30,
   "metadata": {
    "colab": {
     "base_uri": "https://localhost:8080/",
     "height": 35
    },
    "id": "wbOoxdWQWJlJ",
    "outputId": "87eb9641-bb4b-44a8-ea82-24e637c1351f"
   },
   "outputs": [
    {
     "data": {
      "text/plain": [
       "<Figure size 720x1800 with 0 Axes>"
      ]
     },
     "metadata": {},
     "output_type": "display_data"
    }
   ],
   "source": [
    "plt.figure(figsize=(10,25))\n",
    "dog_path = df[df['type']==0]['path']\n",
    "\n",
    "for idx, file in enumerate(dog_path[100:104]):\n",
    "    plt.subplot(2,2, idx + 1)\n",
    "    img = load_img(file)\n",
    "    img = np.array(img)\n",
    "    plt.imshow(img)\n",
    "    plt.title('Dogs')\n",
    "    plt.axis('off')"
   ]
  },
  {
   "cell_type": "code",
   "execution_count": 31,
   "metadata": {
    "colab": {
     "base_uri": "https://localhost:8080/",
     "height": 35
    },
    "id": "Pw0jb6CpXNFM",
    "outputId": "06fdb5d1-9086-4a61-e72c-428e9dd80216"
   },
   "outputs": [
    {
     "data": {
      "text/plain": [
       "<Figure size 720x1800 with 0 Axes>"
      ]
     },
     "metadata": {},
     "output_type": "display_data"
    }
   ],
   "source": [
    "plt.figure(figsize=(10,25))\n",
    "cat_path = df[df['type']==1]['path']\n",
    "\n",
    "for idx, file in enumerate(cat_path[:4]):\n",
    "    plt.subplot(2,2, idx + 1)\n",
    "    img = load_img(file)\n",
    "    img = np.array(img)\n",
    "    plt.imshow(img)\n",
    "    plt.title('Dogs')\n",
    "    plt.axis('off')"
   ]
  },
  {
   "cell_type": "code",
   "execution_count": 32,
   "metadata": {
    "id": "Yv92-bGYYIW8"
   },
   "outputs": [],
   "source": [
    "from sklearn.model_selection import train_test_split\n",
    "train, test = train_test_split(df, test_size=0.25, random_state=10)"
   ]
  },
  {
   "cell_type": "code",
   "execution_count": 33,
   "metadata": {
    "colab": {
     "base_uri": "https://localhost:8080/"
    },
    "id": "Y1CW7ILkYQ1o",
    "outputId": "1d2593d7-8e54-451a-9f46-8000ec2e5cbb"
   },
   "outputs": [
    {
     "name": "stdout",
     "output_type": "stream",
     "text": [
      "Found 18748 validated image filenames belonging to 2 classes.\n",
      "Found 6250 validated image filenames belonging to 2 classes.\n"
     ]
    }
   ],
   "source": [
    "from keras.preprocessing.image import ImageDataGenerator\n",
    "train_setting = ImageDataGenerator(\n",
    "    rescale = 1./255, \n",
    "    rotation_range = 50, \n",
    "    shear_range = 0.2,\n",
    "    zoom_range = 0.2,\n",
    "    horizontal_flip = True,\n",
    "    vertical_flip = True,\n",
    "    fill_mode = 'nearest'\n",
    ")\n",
    "\n",
    "val_setting = ImageDataGenerator(rescale = 1./255)\n",
    "\n",
    "train_iterator = train_setting.flow_from_dataframe(\n",
    "    train, \n",
    "    x_col='path', \n",
    "    y_col='type', \n",
    "    target_size=(256,256), \n",
    "    batch_size=512, \n",
    "    class_mode='binary'\n",
    ")\n",
    "\n",
    "val_iterator = val_setting.flow_from_dataframe(\n",
    "    test, \n",
    "    x_col='path', \n",
    "    y_col='type', \n",
    "    target_size=(256,256), \n",
    "    batch_size=512, \n",
    "    class_mode='binary'\n",
    ")"
   ]
  },
  {
   "cell_type": "code",
   "execution_count": 34,
   "metadata": {
    "id": "RAwGZPwUYQ4f"
   },
   "outputs": [],
   "source": [
    "import keras\n",
    "from keras import Sequential\n",
    "from keras.layers import Conv2D, MaxPool2D, Flatten, Dense, MaxPooling2D, Dropout"
   ]
  },
  {
   "cell_type": "code",
   "execution_count": 39,
   "metadata": {
    "id": "dRuVF7u_AjjU"
   },
   "outputs": [],
   "source": [
    "model = Sequential([\n",
    "            Conv2D(24, (3,3), activation='relu', input_shape=(256,256,3)),\n",
    "            MaxPool2D((2,2)),\n",
    "            Conv2D(48, (3,3), activation='relu'),\n",
    "            MaxPool2D((2,2)),\n",
    "            Conv2D(96, (3,3), activation='relu'),\n",
    "            MaxPool2D((2,2)),\n",
    "            Flatten(),\n",
    "            Dense(1, activation='sigmoid')\n",
    "  ])\n",
    "model.compile(optimizer='adam', loss='binary_crossentropy', metrics=['accuracy'])\n",
    "# model.summary()\n"
   ]
  },
  {
   "cell_type": "code",
   "execution_count": 40,
   "metadata": {
    "colab": {
     "base_uri": "https://localhost:8080/"
    },
    "id": "eKyrmfnncy8_",
    "outputId": "c1207b0e-0585-4b17-dc16-80da3a81269f"
   },
   "outputs": [
    {
     "name": "stdout",
     "output_type": "stream",
     "text": [
      "Epoch 1/20\n",
      "37/37 [==============================] - 320s 8s/step - loss: 0.6950 - accuracy: 0.5609 - val_loss: 0.6541 - val_accuracy: 0.6091\n",
      "Epoch 2/20\n",
      "37/37 [==============================] - 300s 8s/step - loss: 0.6201 - accuracy: 0.6580 - val_loss: 0.5989 - val_accuracy: 0.6877\n",
      "Epoch 3/20\n",
      "37/37 [==============================] - 299s 8s/step - loss: 0.5970 - accuracy: 0.6772 - val_loss: 0.5711 - val_accuracy: 0.7098\n",
      "Epoch 4/20\n",
      "37/37 [==============================] - 302s 8s/step - loss: 0.5793 - accuracy: 0.6954 - val_loss: 0.5581 - val_accuracy: 0.7197\n",
      "Epoch 5/20\n",
      "37/37 [==============================] - 300s 8s/step - loss: 0.5763 - accuracy: 0.6961 - val_loss: 0.5648 - val_accuracy: 0.7061\n",
      "Epoch 6/20\n",
      "37/37 [==============================] - 301s 8s/step - loss: 0.5570 - accuracy: 0.7132 - val_loss: 0.5252 - val_accuracy: 0.7352\n",
      "Epoch 7/20\n",
      "37/37 [==============================] - 299s 8s/step - loss: 0.5428 - accuracy: 0.7222 - val_loss: 0.5296 - val_accuracy: 0.7336\n",
      "Epoch 8/20\n",
      "37/37 [==============================] - 298s 8s/step - loss: 0.5343 - accuracy: 0.7289 - val_loss: 0.5206 - val_accuracy: 0.7376\n",
      "Epoch 9/20\n",
      "37/37 [==============================] - 297s 8s/step - loss: 0.5203 - accuracy: 0.7449 - val_loss: 0.5129 - val_accuracy: 0.7451\n",
      "Epoch 10/20\n",
      "37/37 [==============================] - 297s 8s/step - loss: 0.5137 - accuracy: 0.7495 - val_loss: 0.5275 - val_accuracy: 0.7384\n",
      "Epoch 11/20\n",
      "37/37 [==============================] - 297s 8s/step - loss: 0.5185 - accuracy: 0.7406 - val_loss: 0.5168 - val_accuracy: 0.7442\n",
      "Epoch 12/20\n",
      "37/37 [==============================] - 297s 8s/step - loss: 0.5033 - accuracy: 0.7536 - val_loss: 0.4843 - val_accuracy: 0.7698\n",
      "Epoch 13/20\n",
      "37/37 [==============================] - 297s 8s/step - loss: 0.5022 - accuracy: 0.7543 - val_loss: 0.5132 - val_accuracy: 0.7501\n",
      "Epoch 14/20\n",
      "37/37 [==============================] - 299s 8s/step - loss: 0.4945 - accuracy: 0.7585 - val_loss: 0.4800 - val_accuracy: 0.7704\n",
      "Epoch 15/20\n",
      "37/37 [==============================] - 307s 8s/step - loss: 0.4835 - accuracy: 0.7671 - val_loss: 0.4812 - val_accuracy: 0.7723\n",
      "Epoch 16/20\n",
      "37/37 [==============================] - 299s 8s/step - loss: 0.4962 - accuracy: 0.7578 - val_loss: 0.4652 - val_accuracy: 0.7816\n",
      "Epoch 17/20\n",
      "37/37 [==============================] - 297s 8s/step - loss: 0.4781 - accuracy: 0.7720 - val_loss: 0.5006 - val_accuracy: 0.7637\n",
      "Epoch 18/20\n",
      "37/37 [==============================] - 296s 8s/step - loss: 0.4723 - accuracy: 0.7747 - val_loss: 0.4602 - val_accuracy: 0.7845\n",
      "Epoch 19/20\n",
      "37/37 [==============================] - 298s 8s/step - loss: 0.4792 - accuracy: 0.7709 - val_loss: 0.4656 - val_accuracy: 0.7826\n",
      "Epoch 20/20\n",
      "37/37 [==============================] - 298s 8s/step - loss: 0.4678 - accuracy: 0.7764 - val_loss: 0.4591 - val_accuracy: 0.7888\n"
     ]
    }
   ],
   "source": [
    "history = model.fit(train_iterator, epochs=20, validation_data=val_iterator)"
   ]
  },
  {
   "cell_type": "code",
   "execution_count": 50,
   "metadata": {
    "colab": {
     "base_uri": "https://localhost:8080/",
     "height": 513
    },
    "id": "yshWmwnBruCE",
    "outputId": "8ecdb411-3195-45e9-968d-f5081c634e09"
   },
   "outputs": [
    {
     "data": {
      "image/png": "[encoded data removed]",
      "text/plain": [
       "<Figure size 864x576 with 1 Axes>"
      ]
     },
     "metadata": {
      "needs_background": "light"
     },
     "output_type": "display_data"
    }
   ],
   "source": [
    "plt.figure(figsize=(12,8))\n",
    "plt.plot(list(range(1,21)),history.history['accuracy'])\n",
    "plt.plot(list(range(1,21)),history.history['val_accuracy'])\n",
    "plt.title('model accuracy')\n",
    "plt.ylabel('accuracy')\n",
    "plt.xlabel('epoch')\n",
    "plt.legend(['train', 'val'], loc='upper left')\n",
    "plt.xticks(range(1, 21))\n",
    "plt.grid('on')\n",
    "plt.show()"
   ]
  },
  {
   "cell_type": "code",
   "execution_count": 53,
   "metadata": {
    "colab": {
     "base_uri": "https://localhost:8080/",
     "height": 513
    },
    "id": "HcWjfAv9rv3P",
    "outputId": "3c8dd9a2-3a32-44df-c572-ddc1bdd927bb"
   },
   "outputs": [
    {
     "data": {
      "image/png": "[encoded data removed]",
      "text/plain": [
       "<Figure size 864x576 with 1 Axes>"
      ]
     },
     "metadata": {
      "needs_background": "light"
     },
     "output_type": "display_data"
    }
   ],
   "source": [
    "plt.figure(figsize=(12,8))\n",
    "plt.plot(list(range(1,21)),history.history['loss'])\n",
    "plt.plot(list(range(1,21)),history.history['val_loss'])\n",
    "plt.title('model loss')\n",
    "plt.ylabel('loss')\n",
    "plt.xlabel('epoch')\n",
    "plt.legend(['train', 'val'], loc='upper right')\n",
    "plt.xticks(range(1, 21))\n",
    "plt.grid('on')\n",
    "plt.show()"
   ]
  }
 ],
 "metadata": {
  "accelerator": "GPU",
  "colab": {
   "collapsed_sections": [],
   "name": "Copy of CatandDog.ipynb",
   "provenance": []
  },
  "gpuClass": "standard",
  "kernelspec": {
   "display_name": "Python 3 (ipykernel)",
   "language": "python",
   "name": "python3"
  },
  "language_info": {
   "codemirror_mode": {
    "name": "ipython",
    "version": 3
   },
   "file_extension": ".py",
   "mimetype": "text/x-python",
   "name": "python",
   "nbconvert_exporter": "python",
   "pygments_lexer": "ipython3",
   "version": "3.8.10"
  }
 },
 "nbformat": 4,
 "nbformat_minor": 4
}
